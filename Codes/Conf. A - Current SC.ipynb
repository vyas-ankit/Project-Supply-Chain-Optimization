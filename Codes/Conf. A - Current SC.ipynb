{
 "cells": [
  {
   "cell_type": "markdown",
   "metadata": {},
   "source": [
    "# OR Case Study"
   ]
  },
  {
   "cell_type": "markdown",
   "metadata": {},
   "source": [
    "## This case has a total of 4 configurations:\n",
    "### i) A: no warehouse, no upgrade\n",
    "#### This is the current situation\n",
    "### ii) B: warehouses built, 80% demand criterion met, plants not upgraded\n",
    "### iii) C: no warehouses built, 80% demand criterion not met, all plants upgraded \n",
    "### iv) D: warehouses built, 80% demand criterion met, upgradation of plants is also a decision variable - the upgradation decision is included in the objective function (the decision is not included explicitly in the above 3 confs.)\n",
    "\n"
   ]
  },
  {
   "cell_type": "markdown",
   "metadata": {},
   "source": [
    "## Getting results for conf. A\n",
    "\n",
    "### i) comment the constraint for 80% demand in scenario 1 specific constraints\n",
    "### ii) uncomment the initialization of yp variable when it is created"
   ]
  },
  {
   "cell_type": "markdown",
   "metadata": {},
   "source": [
    "## Getting results for conf. B\n",
    "\n",
    "### i) uncomment the constraint for 80% demand in scenario 1 specific constraints\n",
    "### ii) uncomment the initialization of yp variable when it is created"
   ]
  },
  {
   "cell_type": "markdown",
   "metadata": {},
   "source": [
    "## Getting results for conf. C\n",
    "\n",
    "### i) comment the constraint for 80% demand in scenario 1 specific constraints\n",
    "### ii) comment the initialization of yp variable when it is created"
   ]
  },
  {
   "cell_type": "markdown",
   "metadata": {},
   "source": [
    "## Getting results for conf. D\n",
    "\n",
    "### i) uncomment the constraint for 80% demand in scenario 1 specific constraints\n",
    "### ii) comment the initialization of yp variable when it is created\n",
    "### iii) uncomment the upgradation constraints\n",
    "### iv) choose the 2nd objective function for minimization\n",
    "\n",
    "### For conf. A to C, (iii) and (iv) are not applicable."
   ]
  },
  {
   "cell_type": "markdown",
   "metadata": {},
   "source": [
    "# Import Libraries"
   ]
  },
  {
   "cell_type": "code",
   "execution_count": 1,
   "metadata": {},
   "outputs": [],
   "source": [
    "import pandas as pd\n",
    "import numpy as np\n",
    "from pulp import *\n",
    "from math import *\n",
    "#np.set_printoptions(precision=None,suppress=True)\n",
    "#LpSolverDefault.msg = 1"
   ]
  },
  {
   "cell_type": "markdown",
   "metadata": {},
   "source": [
    "# Read the Data from the Excel File"
   ]
  },
  {
   "cell_type": "code",
   "execution_count": 2,
   "metadata": {},
   "outputs": [],
   "source": [
    "xls = pd.ExcelFile('/Users/ankit/Desktop/1316_ORCaseStudy (1)/1316_Network_Planning.xlsx')\n",
    "plants = pd.read_excel(xls, 'Plants')\n",
    "plant_product_pairs = pd.read_excel(xls, 'Plant Product Pairs')\n",
    "plant_capacity = pd.read_excel(xls, 'Plant Capacity')\n",
    "setups = pd.read_excel(xls, 'Setups')\n",
    "customers = pd.read_excel(xls, 'Customers')\n",
    "annual_demand = pd.read_excel(xls, 'Annual Demand')\n",
    "customer_distances = pd.read_excel(xls, 'Customer Distances')\n",
    "plant_distances = pd.read_excel(xls, 'Plant Distances')"
   ]
  },
  {
   "cell_type": "code",
   "execution_count": 3,
   "metadata": {},
   "outputs": [],
   "source": [
    "# Useful Parameters\n",
    "\n",
    "service_distance = 500\n",
    "product_plant_assignment = {1:{1:1,2:0,3:0,4:0,5:0},  ## Outer keys are idedntifiers for plant\n",
    "                            2:{1:0,2:1,3:0,4:0,5:0},  ## Inner keys are identifier for product\n",
    "                            3:{1:0,2:0,3:1,4:0,5:0},  ## Inner Values: 0/1 - Whether the product is produced at the plant\n",
    "                            4:{1:0,2:0,3:0,4:1,5:1}}\n",
    "\n",
    "truck_capacity = 10  ## Tonnes\n",
    "transp_cost_per_truck_per_mile = 2  ## $\n",
    "setup_cost_per_day = 5000  ## $\n",
    "\n",
    "production_rate = {\n",
    "                    1:100,    ## Tonnes per hour\n",
    "                    2:50,\n",
    "                    3:50,\n",
    "                    4:50\n",
    "                }\n",
    "\n",
    "plant_upgrade_cost = 10000000 ## $\n",
    "w_hours = 8 ## Per day\n",
    "overtime = 120  ## Hours per month\n",
    "cost_factor_overtime = 50 ## Percent\n",
    "n_months = 3\n",
    "days_in_month = 30\n",
    "\n",
    "bigM = 1000000\n",
    "service_requirement = 0.8 #80 percent"
   ]
  },
  {
   "cell_type": "markdown",
   "metadata": {},
   "source": [
    "# Define Indices"
   ]
  },
  {
   "cell_type": "code",
   "execution_count": 4,
   "metadata": {},
   "outputs": [],
   "source": [
    "plants_index = list(plants[\"ID\"]) # Set of Plants\n",
    "customers_index = list(customers[\"ID\"]) # Set of customers\n",
    "products_index = list(plant_product_pairs[\"Product\"])   # Set of Products\n",
    "potential_WH_index = list(customers[\"ID\"])  # Potential WH locations (all customer locations)"
   ]
  },
  {
   "cell_type": "markdown",
   "metadata": {},
   "source": [
    "# Variables"
   ]
  },
  {
   "cell_type": "markdown",
   "metadata": {},
   "source": [
    "### Quantity of product pr produced at plant p"
   ]
  },
  {
   "cell_type": "code",
   "execution_count": 5,
   "metadata": {},
   "outputs": [],
   "source": [
    "q = LpVariable.dicts(\"quantity_p_pr\",indexs=[(p,pr) for p in plants_index for pr in products_index],lowBound=0, cat = \"Continuous\")"
   ]
  },
  {
   "cell_type": "markdown",
   "metadata": {},
   "source": [
    "### Indicator(0/1): Whether product pr is produced at plant p"
   ]
  },
  {
   "cell_type": "markdown",
   "metadata": {},
   "source": [
    "#### Enforcement of production of products at certain plants only\n",
    "\n",
    "#### If commented, the optimum product ---> optimim plant asignment for production will be identified.\n",
    "\n",
    "#### If left uncommented, this constraint will ensure that product_plant_assignment is followed:\n",
    "##### i) Product 1 --> Plant 1 only\n",
    "##### ii) Product 2 --> Plant 2 only\n",
    "##### iii) Product 3 --> Plant 3 only\n",
    "##### iv) Products 4 and 5 --> Plant 4 only"
   ]
  },
  {
   "cell_type": "code",
   "execution_count": 6,
   "metadata": {
    "scrolled": true
   },
   "outputs": [],
   "source": [
    "yp = LpVariable.dicts(\"prodn_indicator_p_pr\",indexs=[(p,pr) for p in plants_index for pr in products_index],cat = \"Binary\")\n",
    "\n",
    "for p in plants_index:\n",
    "    for pr in products_index:\n",
    "        yp[(p,pr)] = product_plant_assignment[(p)][(pr)]"
   ]
  },
  {
   "cell_type": "markdown",
   "metadata": {},
   "source": [
    "### Plant upgrade variable"
   ]
  },
  {
   "cell_type": "code",
   "execution_count": 7,
   "metadata": {},
   "outputs": [],
   "source": [
    "upgrade = LpVariable.dicts(\"upgrade_indicator\",indexs=[p for p in plants_index],cat='Binary')"
   ]
  },
  {
   "cell_type": "markdown",
   "metadata": {},
   "source": [
    "### Indicator(0/1): Whether there is a production changeover at plant p from product pr1 to product pr2 "
   ]
  },
  {
   "cell_type": "code",
   "execution_count": 8,
   "metadata": {},
   "outputs": [],
   "source": [
    "cp = LpVariable.dicts(\"changeover_indicator\",indexs=[(p,pr1,pr2) for p in plants_index for pr1 in products_index for pr2 in products_index],cat=\"Binary\")"
   ]
  },
  {
   "cell_type": "markdown",
   "metadata": {},
   "source": [
    "### Quantity of product pr transported from plant p to customer c"
   ]
  },
  {
   "cell_type": "code",
   "execution_count": 9,
   "metadata": {},
   "outputs": [],
   "source": [
    "x1 = LpVariable.dicts(\"quantity_p_pr_c\",indexs=[(p,pr,c) for p in plants_index for pr in products_index for c in customers_index],lowBound=0, cat=\"Continuous\")"
   ]
  },
  {
   "cell_type": "markdown",
   "metadata": {},
   "source": [
    "### Quantity of product pr transported from plant p to warehouse w"
   ]
  },
  {
   "cell_type": "code",
   "execution_count": 10,
   "metadata": {},
   "outputs": [],
   "source": [
    "x2 = LpVariable.dicts(\"quantity_p_pr_w\",indexs=[(p,pr,w) for p in plants_index for pr in products_index for w in potential_WH_index],lowBound=0, cat=\"Continuous\")"
   ]
  },
  {
   "cell_type": "markdown",
   "metadata": {},
   "source": [
    "### Quantity of product pr transported from warehouse w to customer c"
   ]
  },
  {
   "cell_type": "code",
   "execution_count": 11,
   "metadata": {},
   "outputs": [],
   "source": [
    "x3 = LpVariable.dicts(\"quantity_w_pr_c\",indexs=[(w,pr,c) for w in potential_WH_index for pr in products_index for c in customers_index],lowBound=0, cat=\"Continuous\")"
   ]
  },
  {
   "cell_type": "markdown",
   "metadata": {},
   "source": [
    "### Indicator(0/1): Whether product pr is transferred from plant p to warehouse w"
   ]
  },
  {
   "cell_type": "code",
   "execution_count": 12,
   "metadata": {},
   "outputs": [],
   "source": [
    "y2 = LpVariable.dicts(\"transfer_indicator_p_pr_w\",indexs=[(p,pr,w) for p in plants_index for pr in products_index for w in potential_WH_index],cat=\"Binary\")"
   ]
  },
  {
   "cell_type": "markdown",
   "metadata": {},
   "source": [
    "# Known Parameters"
   ]
  },
  {
   "cell_type": "markdown",
   "metadata": {},
   "source": [
    "### Quarterly demand of customer c for product p (tonnes)"
   ]
  },
  {
   "cell_type": "code",
   "execution_count": 13,
   "metadata": {
    "scrolled": true
   },
   "outputs": [],
   "source": [
    "annual_demand[\"Demand (in tonnes)\"] = annual_demand[\"Demand (in tonnes)\"]/4\n",
    "demand_param = annual_demand[[\"Customer ID\",\"Product ID\",\"Demand (in tonnes)\"]]\n",
    "demand_param = demand_param.set_index([\"Customer ID\",\"Product ID\"])['Demand (in tonnes)'].to_dict()"
   ]
  },
  {
   "cell_type": "markdown",
   "metadata": {},
   "source": [
    "### Quarterly revenue from customer c for product p ($ - revenue/tonnes)"
   ]
  },
  {
   "cell_type": "code",
   "execution_count": 14,
   "metadata": {
    "scrolled": true
   },
   "outputs": [],
   "source": [
    "revenue_param = annual_demand[[\"Customer ID\",\"Product ID\",\"Revenue ($)\"]]\n",
    "revenue_param = revenue_param.set_index([\"Customer ID\",\"Product ID\"])[\"Revenue ($)\"].to_dict()"
   ]
  },
  {
   "cell_type": "markdown",
   "metadata": {},
   "source": [
    "### Quarterly production capacity of plant p for product pr"
   ]
  },
  {
   "cell_type": "code",
   "execution_count": 15,
   "metadata": {},
   "outputs": [
    {
     "name": "stderr",
     "output_type": "stream",
     "text": [
      "/anaconda3/lib/python3.6/site-packages/ipykernel_launcher.py:2: SettingWithCopyWarning: \n",
      "A value is trying to be set on a copy of a slice from a DataFrame.\n",
      "Try using .loc[row_indexer,col_indexer] = value instead\n",
      "\n",
      "See the caveats in the documentation: http://pandas.pydata.org/pandas-docs/stable/indexing.html#indexing-view-versus-copy\n",
      "  \n"
     ]
    }
   ],
   "source": [
    "capacity_param = plant_capacity[[\"Plant ID\",\"Product ID\",\"Annual Production Capacity\"]]\n",
    "capacity_param[\"Annual Production Capacity\"] = capacity_param[\"Annual Production Capacity\"]/4\n",
    "capacity_param = capacity_param.set_index([\"Plant ID\",\"Product ID\"])[\"Annual Production Capacity\"].to_dict()"
   ]
  },
  {
   "cell_type": "markdown",
   "metadata": {},
   "source": [
    "### Cost of production of product pr at plant p ($ - cost/tonnes)"
   ]
  },
  {
   "cell_type": "code",
   "execution_count": 16,
   "metadata": {},
   "outputs": [],
   "source": [
    "cost_param = plant_capacity[[\"Plant ID\",\"Product ID\",\"Production Cost\"]]\n",
    "cost_param = cost_param.set_index([\"Plant ID\",\"Product ID\"])[\"Production Cost\"].to_dict()"
   ]
  },
  {
   "cell_type": "markdown",
   "metadata": {},
   "source": [
    "### Changeover time (in days) from product pr1 to product pr2"
   ]
  },
  {
   "cell_type": "code",
   "execution_count": 17,
   "metadata": {},
   "outputs": [],
   "source": [
    "changeover_param = setups.set_index([\"From Product ID\",\"To Product ID\"])[\"Duration (in days)\"].to_dict()"
   ]
  },
  {
   "cell_type": "markdown",
   "metadata": {},
   "source": [
    "### Distances (miles)\n",
    "\n",
    "#### i) customer to customer distance\n",
    "#### ii) warehouse to customer distance\n",
    "#### iii) plant to customer distance"
   ]
  },
  {
   "cell_type": "code",
   "execution_count": 18,
   "metadata": {},
   "outputs": [],
   "source": [
    "c_to_c_distances_param = customer_distances.set_index([\"Customer ID\",\"Customer ID.1\"])[\"Distance\"].to_dict()\n",
    "w_to_c_distances_param = customer_distances.set_index([\"Customer ID\",\"Customer ID.1\"])[\"Distance\"].to_dict()\n",
    "p_to_c_distances_param = plant_distances.set_index([\"Plant ID\",\"Customer ID\"])[\"Distance\"].to_dict()"
   ]
  },
  {
   "cell_type": "markdown",
   "metadata": {},
   "source": [
    "# Costs"
   ]
  },
  {
   "cell_type": "markdown",
   "metadata": {},
   "source": [
    "### Transportation costs\n",
    "#### i) Plant to customer\n",
    "#### ii) plant to warehouse\n",
    "#### iii) warehouse to customer\n",
    "#### iv) total transportation cost = (i) + (ii) (iii)"
   ]
  },
  {
   "cell_type": "code",
   "execution_count": 19,
   "metadata": {
    "scrolled": true
   },
   "outputs": [],
   "source": [
    "plant_to_customer_cost = 0.2*lpSum([x1[(p,pr,c)]*p_to_c_distances_param[p,c] for p in plants_index for pr in products_index for c in customers_index])\n",
    "plant_to_warehouse_cost = 0.2*lpSum([x2[(p,pr,w)]*p_to_c_distances_param[p,w] for p in plants_index for pr in products_index for w in potential_WH_index])\n",
    "warehouse_to_customer_cost = 0.2*lpSum([x3[(w,pr,c)]*w_to_c_distances_param[w,c] for w in potential_WH_index for pr in products_index for c in customers_index])\n",
    "total_transportation_cost = lpSum([plant_to_customer_cost,plant_to_warehouse_cost,warehouse_to_customer_cost])"
   ]
  },
  {
   "cell_type": "markdown",
   "metadata": {},
   "source": [
    "### Production Cost"
   ]
  },
  {
   "cell_type": "code",
   "execution_count": 20,
   "metadata": {},
   "outputs": [],
   "source": [
    "production_cost = lpSum([q[(p,pr)]]*cost_param[(p,pr)] for p in plants_index for pr in products_index)"
   ]
  },
  {
   "cell_type": "markdown",
   "metadata": {},
   "source": [
    "### Changeover cost"
   ]
  },
  {
   "cell_type": "code",
   "execution_count": 21,
   "metadata": {},
   "outputs": [],
   "source": [
    "changeover_cost = 5000*lpSum(cp[(p,pr1,pr2)]*changeover_param[(pr1,pr2)] for p in plants_index for pr1 in products_index for pr2 in products_index)"
   ]
  },
  {
   "cell_type": "markdown",
   "metadata": {},
   "source": [
    "### Revenue"
   ]
  },
  {
   "cell_type": "code",
   "execution_count": 22,
   "metadata": {
    "scrolled": true
   },
   "outputs": [],
   "source": [
    "revenue = lpSum(demand_param[c,pr]*revenue_param[c,pr] for pr in products_index for c in customers_index)"
   ]
  },
  {
   "cell_type": "markdown",
   "metadata": {},
   "source": [
    "### Profit = Revenue - Costs"
   ]
  },
  {
   "cell_type": "code",
   "execution_count": 23,
   "metadata": {},
   "outputs": [],
   "source": [
    "profit = revenue - (total_transportation_cost + production_cost + changeover_cost)"
   ]
  },
  {
   "cell_type": "markdown",
   "metadata": {},
   "source": [
    "# Define a model object"
   ]
  },
  {
   "cell_type": "code",
   "execution_count": 24,
   "metadata": {},
   "outputs": [],
   "source": [
    "model = LpProblem(\"OR_Problem\",LpMinimize)"
   ]
  },
  {
   "cell_type": "markdown",
   "metadata": {},
   "source": [
    "# Constraints"
   ]
  },
  {
   "cell_type": "markdown",
   "metadata": {},
   "source": [
    "###  Flow balancing at plant nodes"
   ]
  },
  {
   "cell_type": "code",
   "execution_count": 25,
   "metadata": {},
   "outputs": [],
   "source": [
    "for p in plants_index:\n",
    "    for pr in products_index:\n",
    "        model += lpSum([x1[(p,pr,c)] for c in customers_index]) + lpSum([x2[(p,pr,w)] for w in customers_index]) == q[(p,pr)]"
   ]
  },
  {
   "cell_type": "markdown",
   "metadata": {},
   "source": [
    "###  Flow balancing at warehouse nodes"
   ]
  },
  {
   "cell_type": "code",
   "execution_count": 26,
   "metadata": {},
   "outputs": [],
   "source": [
    "for w in customers_index:\n",
    "    for pr in products_index:\n",
    "        model += lpSum([x3[(w,pr,c)] for c in customers_index]) == lpSum([x2[(p,pr,w)] for p in plants_index])"
   ]
  },
  {
   "cell_type": "markdown",
   "metadata": {},
   "source": [
    "### Flow balancing at customer nodes"
   ]
  },
  {
   "cell_type": "code",
   "execution_count": 27,
   "metadata": {},
   "outputs": [],
   "source": [
    "for pr in products_index:\n",
    "    for c in customers_index:\n",
    "        model += lpSum([x1[(p,pr,c)] for p in plants_index]) + lpSum([x3[(w,pr,c)] for w in customers_index]) == demand_param[(c,pr)]"
   ]
  },
  {
   "cell_type": "markdown",
   "metadata": {},
   "source": [
    "### Production time at each plant <= Available time"
   ]
  },
  {
   "cell_type": "code",
   "execution_count": 28,
   "metadata": {},
   "outputs": [],
   "source": [
    "# write the rhs of constraint in terms of variables as well - abhi constant ke terms me hai\n",
    "for p in plants_index:\n",
    "    model += (lpSum([q[(p,pr)] for pr in products_index])/production_rate[(p)]) + 8*lpSum([cp[(p,pr1,pr2)]*changeover_param[(pr1,pr2)] for pr1 in products_index for pr2 in products_index]) <= n_months*(w_hours*days_in_month + overtime)"
   ]
  },
  {
   "cell_type": "markdown",
   "metadata": {},
   "source": [
    "### Capacity constraint at plant nodes"
   ]
  },
  {
   "cell_type": "code",
   "execution_count": 29,
   "metadata": {},
   "outputs": [],
   "source": [
    "for p in plants_index:\n",
    "    for pr in products_index:\n",
    "        model += q[(p,pr)] <= capacity_param[(p,pr)]"
   ]
  },
  {
   "cell_type": "markdown",
   "metadata": {},
   "source": [
    "### Big M constraints for a decision variable and its indicator variable\n",
    "\n",
    "#### i) Indicator(plant p ---> warehouse w; product pr) * M>= Quantity transferred(plant p ---> warehouse w; product pr)\n",
    "#### ii) Indicator(plant p, product pr) * M >= Quantity produced(plant p, product pr)"
   ]
  },
  {
   "cell_type": "code",
   "execution_count": 30,
   "metadata": {},
   "outputs": [],
   "source": [
    "for p in plants_index:\n",
    "    for pr in products_index:\n",
    "        for w in potential_WH_index:\n",
    "            model += bigM*y2[(p,pr,w)] >= x2[(p,pr,w)]"
   ]
  },
  {
   "cell_type": "code",
   "execution_count": 31,
   "metadata": {},
   "outputs": [],
   "source": [
    "for p in plants_index:\n",
    "    for pr in products_index:\n",
    "        model += bigM*yp[(p,pr)] >= q[(p,pr)]"
   ]
  },
  {
   "cell_type": "markdown",
   "metadata": {},
   "source": [
    "### Constraints to ensure cyclicity of changeovers"
   ]
  },
  {
   "cell_type": "code",
   "execution_count": 32,
   "metadata": {},
   "outputs": [],
   "source": [
    "for p in plants_index:\n",
    "    for pr2 in products_index:\n",
    "        model += lpSum([cp[(p,pr1,pr2)] for pr1 in products_index]) == yp[(p,pr2)]"
   ]
  },
  {
   "cell_type": "code",
   "execution_count": 33,
   "metadata": {},
   "outputs": [],
   "source": [
    "for p in plants_index:\n",
    "    for pr1 in products_index:\n",
    "        model += lpSum(cp[(p,pr1,pr2)] for pr2 in products_index) == yp[(p,pr1)]"
   ]
  },
  {
   "cell_type": "code",
   "execution_count": 34,
   "metadata": {},
   "outputs": [],
   "source": [
    "for p in plants_index:\n",
    "    model += lpSum([cp[(p,pr,pr)] for pr in products_index]) <=1"
   ]
  },
  {
   "cell_type": "code",
   "execution_count": 35,
   "metadata": {},
   "outputs": [],
   "source": [
    "for p in plants_index:\n",
    "    model += lpSum([cp[(p,pr1,pr2)] for pr1 in products_index for pr2 in products_index]) == lpSum(yp[(p,pr)] for pr in products_index)"
   ]
  },
  {
   "cell_type": "markdown",
   "metadata": {},
   "source": [
    "### Upgradation constraints"
   ]
  },
  {
   "cell_type": "code",
   "execution_count": 36,
   "metadata": {},
   "outputs": [],
   "source": [
    "#for p in plants_index:\n",
    "#    for pr in products_index:\n",
    "#        model += yp[(p,pr)]<=upgrade[(p)]"
   ]
  },
  {
   "cell_type": "markdown",
   "metadata": {},
   "source": [
    "# Scenario specific constraints"
   ]
  },
  {
   "cell_type": "markdown",
   "metadata": {},
   "source": [
    "### Scenario 1: At least 80% of total demand is met by a facility(plant or warehouse) within 500 miles of the customer"
   ]
  },
  {
   "cell_type": "code",
   "execution_count": 37,
   "metadata": {},
   "outputs": [],
   "source": [
    "# indicator for x1\n",
    "\n",
    "p_to_c_distances_param_500 = {} # indicator for distance(plant, customer)<500\n",
    "\n",
    "for p in plants_index:\n",
    "    for c in customers_index:\n",
    "        if p_to_c_distances_param[(p,c)]<500:\n",
    "            p_to_c_distances_param_500[(p,c)] = 1\n",
    "        else:\n",
    "            p_to_c_distances_param_500[(p,c)] = 0\n",
    "\n",
    "            \n",
    "# indicator for x3\n",
    "\n",
    "w_to_c_distances_param_500 = {} # indicator for distance(warehouse, customer)<500\n",
    "\n",
    "for w in potential_WH_index:\n",
    "    for c in customers_index:\n",
    "        if w_to_c_distances_param[(w,c)]<500:\n",
    "            w_to_c_distances_param_500[(w,c)] = 1\n",
    "        else:\n",
    "            w_to_c_distances_param_500[(w,c)] = 0"
   ]
  },
  {
   "cell_type": "code",
   "execution_count": 38,
   "metadata": {},
   "outputs": [],
   "source": [
    "w_to_c = 0\n",
    "\n",
    "for w in potential_WH_index:\n",
    "    for c in customers_index:\n",
    "        w_to_c = w_to_c + lpSum([x3[(w,pr,c)]*w_to_c_distances_param_500[(w,c)] for pr in products_index])\n",
    "\n",
    "p_to_c = 0\n",
    "\n",
    "for p in plants_index:\n",
    "    for c in customers_index:\n",
    "        p_to_c = p_to_c + lpSum([x1[(p,pr,c)]]*p_to_c_distances_param_500[p,c] for pr in products_index)"
   ]
  },
  {
   "cell_type": "markdown",
   "metadata": {},
   "source": [
    "### Constraint Equation for scenario 1\n",
    "#### Comment this cell to remove the 80% demand constraint\n"
   ]
  },
  {
   "cell_type": "code",
   "execution_count": 39,
   "metadata": {},
   "outputs": [],
   "source": [
    "#model += w_to_c + p_to_c >= service_requirement*sum(demand_param.values())"
   ]
  },
  {
   "cell_type": "markdown",
   "metadata": {},
   "source": [
    "# Objective Function\n",
    "\n",
    "#### The objective is to increase the service level to customers that are far-off by building warehouses. This, however, leads to additional transportation and fixed costs and decreases the profit.\n",
    "\n",
    "#### So, objective:\n",
    "\n",
    "#### minimize (no. of warehouses - profit)\n",
    "\n",
    "#### or\n",
    "\n",
    "#### minimize(no. of warehouses - profit + no. of plants upgraded)"
   ]
  },
  {
   "cell_type": "code",
   "execution_count": 40,
   "metadata": {},
   "outputs": [],
   "source": [
    "#w/o plant upgradation decision variable\n",
    "model += 10*lpSum(y2) - profit/200000000\n",
    "\n",
    "#with plant upgradation decision variable\n",
    "#model += 10*lpSum(y2) - profit/200000000 + 10*lpSum(yp)\n",
    "\n",
    "#model += 10*lpSum(y2) - profit/200000000 + 10*lpSum(upgrade)"
   ]
  },
  {
   "cell_type": "markdown",
   "metadata": {},
   "source": [
    "# Solve the Problem"
   ]
  },
  {
   "cell_type": "code",
   "execution_count": 41,
   "metadata": {},
   "outputs": [
    {
     "data": {
      "text/plain": [
       "1"
      ]
     },
     "execution_count": 41,
     "metadata": {},
     "output_type": "execute_result"
    }
   ],
   "source": [
    "model.solve(PULP_CBC_CMD(mip=True, msg=True, timeLimit=500, fracGap=None, maxSeconds=None, gapRel=0.05, gapAbs=None, presolve=None, cuts=None, strong=None, options=None, warmStart=False, keepFiles=False, path=None, threads=None, logPath=None, mip_start=False))"
   ]
  },
  {
   "cell_type": "markdown",
   "metadata": {},
   "source": [
    "# Results"
   ]
  },
  {
   "cell_type": "markdown",
   "metadata": {},
   "source": [
    "#### Warehouse Locations"
   ]
  },
  {
   "cell_type": "code",
   "execution_count": 42,
   "metadata": {},
   "outputs": [
    {
     "name": "stdout",
     "output_type": "stream",
     "text": [
      "\n",
      "No. of warehouses =  0\n",
      "\n",
      "Warehouse Locations: []\n"
     ]
    }
   ],
   "source": [
    "wh_loc = []\n",
    "\n",
    "for p in plants_index:\n",
    "    for pr in products_index:\n",
    "        for w in potential_WH_index:\n",
    "            if y2[(p,pr,w)].value()==1:\n",
    "                wh_loc.append(w)\n",
    "\n",
    "print(\"\\nNo. of warehouses = \",len(np.unique(wh_loc)))\n",
    "print(\"\\nWarehouse Locations:\",np.unique(wh_loc))"
   ]
  },
  {
   "cell_type": "markdown",
   "metadata": {},
   "source": [
    "#### Product assignments"
   ]
  },
  {
   "cell_type": "code",
   "execution_count": 43,
   "metadata": {},
   "outputs": [
    {
     "data": {
      "text/plain": [
       "{1: {1: 1, 2: 0, 3: 0, 4: 0, 5: 0},\n",
       " 2: {1: 0, 2: 1, 3: 0, 4: 0, 5: 0},\n",
       " 3: {1: 0, 2: 0, 3: 1, 4: 0, 5: 0},\n",
       " 4: {1: 0, 2: 0, 3: 0, 4: 1, 5: 1}}"
      ]
     },
     "execution_count": 43,
     "metadata": {},
     "output_type": "execute_result"
    }
   ],
   "source": [
    "product_assignments = {p:{pr: value(yp[p,pr]) for pr in products_index} for p in plants_index}\n",
    "product_assignments"
   ]
  },
  {
   "cell_type": "markdown",
   "metadata": {},
   "source": [
    "#### Production quantities"
   ]
  },
  {
   "cell_type": "code",
   "execution_count": 44,
   "metadata": {
    "scrolled": true
   },
   "outputs": [
    {
     "data": {
      "text/plain": [
       "[{'plant': 1, 'product': 1, 'quantity': 295488.72},\n",
       " {'plant': 1, 'product': 2, 'quantity': 0.0},\n",
       " {'plant': 1, 'product': 3, 'quantity': 0.0},\n",
       " {'plant': 1, 'product': 4, 'quantity': 0.0},\n",
       " {'plant': 1, 'product': 5, 'quantity': 0.0},\n",
       " {'plant': 2, 'product': 1, 'quantity': 0.0},\n",
       " {'plant': 2, 'product': 2, 'quantity': 72580.16},\n",
       " {'plant': 2, 'product': 3, 'quantity': 0.0},\n",
       " {'plant': 2, 'product': 4, 'quantity': 0.0},\n",
       " {'plant': 2, 'product': 5, 'quantity': 0.0},\n",
       " {'plant': 3, 'product': 1, 'quantity': 0.0},\n",
       " {'plant': 3, 'product': 2, 'quantity': 0.0},\n",
       " {'plant': 3, 'product': 3, 'quantity': 29797.44},\n",
       " {'plant': 3, 'product': 4, 'quantity': 0.0},\n",
       " {'plant': 3, 'product': 5, 'quantity': 0.0},\n",
       " {'plant': 4, 'product': 1, 'quantity': 0.0},\n",
       " {'plant': 4, 'product': 2, 'quantity': 0.0},\n",
       " {'plant': 4, 'product': 3, 'quantity': 0.0},\n",
       " {'plant': 4, 'product': 4, 'quantity': 11922.08},\n",
       " {'plant': 4, 'product': 5, 'quantity': 5940.28}]"
      ]
     },
     "execution_count": 44,
     "metadata": {},
     "output_type": "execute_result"
    }
   ],
   "source": [
    "production_quantities = []\n",
    "\n",
    "for p,pr in itertools.product(plants_index, products_index):\n",
    "    production_quantities.append({\"plant\":p,\"product\":pr,\"quantity\":4*round(value(q[p,pr]),2)})\n",
    "\n",
    "production_quantities"
   ]
  },
  {
   "cell_type": "markdown",
   "metadata": {},
   "source": [
    "#### Costs, Revenue and Profits"
   ]
  },
  {
   "cell_type": "code",
   "execution_count": 45,
   "metadata": {},
   "outputs": [
    {
     "data": {
      "text/plain": [
       "{'revenue': 431.2, 'total_cost': 288.76, 'profit': 142.44}"
      ]
     },
     "execution_count": 45,
     "metadata": {},
     "output_type": "execute_result"
    }
   ],
   "source": [
    "costs = {'revenue': 4*round(value(revenue/1000000),2),\n",
    "         'total_cost': 4*round(sum([value(total_transportation_cost),value(changeover_cost),value(production_cost)])/1000000,2),\n",
    "         'profit'  :    4*round(value(profit/1000000),2)\n",
    "                    }\n",
    "\n",
    "costs"
   ]
  },
  {
   "cell_type": "code",
   "execution_count": 46,
   "metadata": {},
   "outputs": [
    {
     "data": {
      "text/plain": [
       "{'total transportation_cost': 99.88,\n",
       " 'changeover_cost': 0.18,\n",
       " 'production_cost': 188.68}"
      ]
     },
     "execution_count": 46,
     "metadata": {},
     "output_type": "execute_result"
    }
   ],
   "source": [
    "total_cost_breakup = {\n",
    "    'total transportation_cost' : 4*round(value(total_transportation_cost/1000000),2),\n",
    "    'changeover_cost'  : 4*round(value(changeover_cost/1000000),4),\n",
    "    'production_cost'  : 4*round(value(production_cost/1000000),2)}\n",
    "\n",
    "total_cost_breakup"
   ]
  },
  {
   "cell_type": "code",
   "execution_count": 47,
   "metadata": {},
   "outputs": [
    {
     "data": {
      "text/plain": [
       "{'plant to customer shipping cost': 99.88,\n",
       " 'plant to warehouse shipping cost': 0.0,\n",
       " 'warehouse to customer shipping cost': 0.0}"
      ]
     },
     "execution_count": 47,
     "metadata": {},
     "output_type": "execute_result"
    }
   ],
   "source": [
    "transportation_cost_breakup = {\n",
    "    'plant to customer shipping cost' : 4*round(value(plant_to_customer_cost/1000000),2),\n",
    "    'plant to warehouse shipping cost'  : 4*round(value(plant_to_warehouse_cost/1000000),2),\n",
    "    'warehouse to customer shipping cost'  : 4*round(value(warehouse_to_customer_cost/1000000),2)\n",
    "}\n",
    "\n",
    "transportation_cost_breakup"
   ]
  },
  {
   "cell_type": "markdown",
   "metadata": {},
   "source": [
    "#### Amounts delivered"
   ]
  },
  {
   "cell_type": "code",
   "execution_count": 48,
   "metadata": {},
   "outputs": [],
   "source": [
    "first_mile = []\n",
    "for p,pr,w in itertools.product(plants_index,products_index,potential_WH_index):\n",
    "    first_mile.append({\"from_plant\":p, \"to_warehouse\":w, \"product\":pr, \"quantity\": 4*round(value(x2[p,pr,w]),2)})\n",
    "\n",
    "last_mile_1 = []\n",
    "for p,pr,c in itertools.product(plants_index, products_index, customers_index):\n",
    "    last_mile_1.append({\"from_plant\":p, \"to_customer\":c, \"product\":pr,\"quantity\": 4*round(value(x1[p,pr,c]),2)})\n",
    "\n",
    "last_mile_2 = []\n",
    "for w,pr,c in itertools.product(potential_WH_index, products_index, customers_index):\n",
    "    last_mile_2.append({\"from_warehouse\":w, \"to_customer\":c, \"product\":pr,\"quantity\":4*round(value(x3[w,pr,c]),2)})\n"
   ]
  },
  {
   "cell_type": "code",
   "execution_count": 49,
   "metadata": {},
   "outputs": [],
   "source": [
    "#first_mile"
   ]
  },
  {
   "cell_type": "code",
   "execution_count": 50,
   "metadata": {},
   "outputs": [],
   "source": [
    "#last_mile_1"
   ]
  },
  {
   "cell_type": "code",
   "execution_count": 51,
   "metadata": {},
   "outputs": [],
   "source": [
    "#last_mile_2"
   ]
  },
  {
   "cell_type": "markdown",
   "metadata": {},
   "source": [
    "#### No of trucks required"
   ]
  },
  {
   "cell_type": "code",
   "execution_count": 52,
   "metadata": {
    "scrolled": true
   },
   "outputs": [
    {
     "name": "stdout",
     "output_type": "stream",
     "text": [
      "\n",
      "Trucks required from plants to warehouses: 0.0\n",
      "\n",
      "Trucks required from plants to customers: 41695.0\n",
      "\n",
      "Trucks required from warehouses to customers: 0.0\n",
      "\n",
      "Total trucks required: 41695.0\n"
     ]
    }
   ],
   "source": [
    "trucks_count_first_mile = 0\n",
    "\n",
    "for i in range(len(first_mile)):\n",
    "    trucks_count_first_mile = trucks_count_first_mile + np.ceil(first_mile[i][\"quantity\"]/10)\n",
    "print(\"\\nTrucks required from plants to warehouses:\",trucks_count_first_mile)\n",
    "\n",
    "\n",
    "trucks_count_last_mile_1 = 0\n",
    "for i in range(len(last_mile_1)):\n",
    "    trucks_count_last_mile_1 = trucks_count_last_mile_1 + np.ceil(last_mile_1[i][\"quantity\"]/10)\n",
    "print(\"\\nTrucks required from plants to customers:\",trucks_count_last_mile_1)\n",
    "\n",
    "trucks_count_last_mile_2 = 0\n",
    "for i in range(len(last_mile_2)):\n",
    "    trucks_count_last_mile_2 = trucks_count_last_mile_2 + np.ceil(last_mile_2[i][\"quantity\"]/10)\n",
    "\n",
    "print(\"\\nTrucks required from warehouses to customers:\",trucks_count_last_mile_2)\n",
    "\n",
    "print(\"\\nTotal trucks required:\",trucks_count_first_mile + trucks_count_last_mile_1 + trucks_count_last_mile_2)"
   ]
  },
  {
   "cell_type": "markdown",
   "metadata": {},
   "source": [
    "#### Service Percentage"
   ]
  },
  {
   "cell_type": "code",
   "execution_count": 53,
   "metadata": {},
   "outputs": [
    {
     "name": "stdout",
     "output_type": "stream",
     "text": [
      "Service Percentage: 10.56 %\n"
     ]
    }
   ],
   "source": [
    "print(\"Service Percentage: {} %\".format(round(100*(value(w_to_c) + value(p_to_c))/sum(demand_param.values()),2)))"
   ]
  },
  {
   "cell_type": "markdown",
   "metadata": {},
   "source": [
    "#### Changeovers (setups) required"
   ]
  },
  {
   "cell_type": "code",
   "execution_count": 54,
   "metadata": {},
   "outputs": [
    {
     "data": {
      "text/plain": [
       "[{'plant': 1, 'from product': 1, 'to product': 1, 'setup required': 1.0},\n",
       " {'plant': 2, 'from product': 2, 'to product': 2, 'setup required': 1.0},\n",
       " {'plant': 3, 'from product': 3, 'to product': 3, 'setup required': 1.0},\n",
       " {'plant': 4, 'from product': 4, 'to product': 5, 'setup required': 1.0},\n",
       " {'plant': 4, 'from product': 5, 'to product': 4, 'setup required': 1.0}]"
      ]
     },
     "execution_count": 54,
     "metadata": {},
     "output_type": "execute_result"
    }
   ],
   "source": [
    "changeover_indicator = []\n",
    "for p,pr1,pr2 in itertools.product(plants_index,products_index,products_index):\n",
    "    if value(cp[p,pr1,pr2]) == 1:\n",
    "        changeover_indicator.append({\"plant\":p, \"from product\":pr1, \"to product\":pr2, \"setup required\": value(cp[p,pr1,pr2])})\n",
    "\n",
    "changeover_indicator"
   ]
  },
  {
   "cell_type": "markdown",
   "metadata": {},
   "source": [
    "### Plants to be upgraded"
   ]
  },
  {
   "cell_type": "code",
   "execution_count": 55,
   "metadata": {},
   "outputs": [
    {
     "name": "stdout",
     "output_type": "stream",
     "text": [
      "Upgrade plant 1 None\n",
      "Upgrade plant 2 None\n",
      "Upgrade plant 3 None\n",
      "Upgrade plant 4 None\n"
     ]
    }
   ],
   "source": [
    "for p in plants_index:\n",
    "    print(\"Upgrade plant\",p, value(upgrade[(p)]))"
   ]
  },
  {
   "cell_type": "code",
   "execution_count": 56,
   "metadata": {},
   "outputs": [],
   "source": [
    "#writer = pd.ExcelWriter('/Users/ankit/Desktop/OR Case Study Solution/Only_Plant_upgrades.xlsx', engine='xlsxwriter')\n",
    "#df_costs = pd.DataFrame(costs,index=['0'])\n",
    "#df_costs.to_excel(writer,sheet_name = 'Balance Sheet',index = False)\n",
    "#df_total_cost_breakup = pd.DataFrame(total_cost_breakup,index=['0'])\n",
    "#df_total_cost_breakup.to_excel(writer, sheet_name='Total Costs Breakup',index=False)\n",
    "#df_transportation_cost_breakup = pd.DataFrame(transportation_cost_breakup,index=['0'])\n",
    "#df_transportation_cost_breakup.to_excel(writer, sheet_name='Transportation Costs Breakup',index=False)\n",
    "#df_product_assignments = pd.DataFrame(product_assignments)\n",
    "#df_product_assignments.to_excel(writer, sheet_name='Product Assignments',index=False)\n",
    "#df_production_quantities = pd.DataFrame(production_quantities)\n",
    "#df_production_quantities.to_excel(writer, sheet_name='Production Quantities',index=False)\n",
    "#df_first_mile = pd.DataFrame(first_mile)\n",
    "#df_first_mile.to_excel(writer, sheet_name='Qty - Plants to Warehouse',index=False)\n",
    "#df_last_mile_1 = pd.DataFrame(last_mile_1)\n",
    "#df_last_mile_1.to_excel(writer, sheet_name='Qty - Plants to Customer',index=False)\n",
    "#df_last_mile_2 = pd.DataFrame(last_mile_2)\n",
    "#df_last_mile_2.to_excel(writer, sheet_name='Qty - Warehouse to Customer',index=False)\n",
    "#writer.save()"
   ]
  },
  {
   "cell_type": "code",
   "execution_count": null,
   "metadata": {},
   "outputs": [],
   "source": []
  }
 ],
 "metadata": {
  "kernelspec": {
   "display_name": "Python 3",
   "language": "python",
   "name": "python3"
  },
  "language_info": {
   "codemirror_mode": {
    "name": "ipython",
    "version": 3
   },
   "file_extension": ".py",
   "mimetype": "text/x-python",
   "name": "python",
   "nbconvert_exporter": "python",
   "pygments_lexer": "ipython3",
   "version": "3.6.5"
  }
 },
 "nbformat": 4,
 "nbformat_minor": 2
}
